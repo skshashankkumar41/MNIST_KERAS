{
 "cells": [
  {
   "cell_type": "code",
   "execution_count": 3,
   "metadata": {},
   "outputs": [
    {
     "name": "stderr",
     "output_type": "stream",
     "text": [
      "C:\\Users\\SKS\\Anaconda3\\lib\\site-packages\\h5py\\__init__.py:34: FutureWarning: Conversion of the second argument of issubdtype from `float` to `np.floating` is deprecated. In future, it will be treated as `np.float64 == np.dtype(float).type`.\n",
      "  from ._conv import register_converters as _register_converters\n",
      "Using TensorFlow backend.\n"
     ]
    },
    {
     "name": "stdout",
     "output_type": "stream",
     "text": [
      "x_train shape: (60000, 28, 28, 1)\n",
      "60000 train samples\n",
      "10000 test samples\n"
     ]
    }
   ],
   "source": [
    "from __future__ import print_function\n",
    "import keras\n",
    "from keras.datasets import mnist\n",
    "from keras.models import Sequential\n",
    "from keras.layers import Dense, Dropout, Flatten,BatchNormalization\n",
    "from keras.layers import Conv2D, MaxPooling2D\n",
    "from keras import backend as K\n",
    "\n",
    "batch_size = 128\n",
    "num_classes = 10\n",
    "epochs = 12\n",
    "\n",
    "# input image dimensions\n",
    "img_rows, img_cols = 28, 28\n",
    "\n",
    "# the data, split between train and test sets\n",
    "(x_train, y_train), (x_test, y_test) = mnist.load_data()\n",
    "\n",
    "if K.image_data_format() == 'channels_first':\n",
    "    x_train = x_train.reshape(x_train.shape[0], 1, img_rows, img_cols)\n",
    "    x_test = x_test.reshape(x_test.shape[0], 1, img_rows, img_cols)\n",
    "    input_shape = (1, img_rows, img_cols)\n",
    "else:\n",
    "    x_train = x_train.reshape(x_train.shape[0], img_rows, img_cols, 1)\n",
    "    x_test = x_test.reshape(x_test.shape[0], img_rows, img_cols, 1)\n",
    "    input_shape = (img_rows, img_cols, 1)\n",
    "\n",
    "x_train = x_train.astype('float32')\n",
    "x_test = x_test.astype('float32')\n",
    "x_train /= 255\n",
    "x_test /= 255\n",
    "print('x_train shape:', x_train.shape)\n",
    "print(x_train.shape[0], 'train samples')\n",
    "print(x_test.shape[0], 'test samples')\n",
    "\n",
    "# convert class vectors to binary class matrices\n",
    "y_train = keras.utils.to_categorical(y_train, num_classes)\n",
    "y_test = keras.utils.to_categorical(y_test, num_classes)\n"
   ]
  },
  {
   "cell_type": "markdown",
   "metadata": {},
   "source": [
    "## CNN Model with 3 Convolution Layer,2 Max-Pooling Layer,Dropouts,BatchNormalizations"
   ]
  },
  {
   "cell_type": "code",
   "execution_count": 11,
   "metadata": {},
   "outputs": [
    {
     "name": "stdout",
     "output_type": "stream",
     "text": [
      "_________________________________________________________________\n",
      "Layer (type)                 Output Shape              Param #   \n",
      "=================================================================\n",
      "conv2d_14 (Conv2D)           (None, 26, 26, 32)        320       \n",
      "_________________________________________________________________\n",
      "conv2d_15 (Conv2D)           (None, 24, 24, 64)        18496     \n",
      "_________________________________________________________________\n",
      "max_pooling2d_9 (MaxPooling2 (None, 12, 12, 64)        0         \n",
      "_________________________________________________________________\n",
      "batch_normalization_10 (Batc (None, 12, 12, 64)        256       \n",
      "_________________________________________________________________\n",
      "conv2d_16 (Conv2D)           (None, 10, 10, 128)       73856     \n",
      "_________________________________________________________________\n",
      "max_pooling2d_10 (MaxPooling (None, 5, 5, 128)         0         \n",
      "_________________________________________________________________\n",
      "batch_normalization_11 (Batc (None, 5, 5, 128)         512       \n",
      "_________________________________________________________________\n",
      "dropout_7 (Dropout)          (None, 5, 5, 128)         0         \n",
      "_________________________________________________________________\n",
      "flatten_4 (Flatten)          (None, 3200)              0         \n",
      "_________________________________________________________________\n",
      "dense_7 (Dense)              (None, 128)               409728    \n",
      "_________________________________________________________________\n",
      "dropout_8 (Dropout)          (None, 128)               0         \n",
      "_________________________________________________________________\n",
      "dense_8 (Dense)              (None, 10)                1290      \n",
      "=================================================================\n",
      "Total params: 504,458\n",
      "Trainable params: 504,074\n",
      "Non-trainable params: 384\n",
      "_________________________________________________________________\n",
      "None\n",
      "Train on 60000 samples, validate on 10000 samples\n",
      "Epoch 1/12\n",
      "60000/60000 [==============================] - 46s 764us/step - loss: 0.1867 - acc: 0.9446 - val_loss: 0.0482 - val_acc: 0.9860\n",
      "Epoch 2/12\n",
      "60000/60000 [==============================] - 45s 742us/step - loss: 0.0780 - acc: 0.9776 - val_loss: 0.0344 - val_acc: 0.9905\n",
      "Epoch 3/12\n",
      "60000/60000 [==============================] - 44s 741us/step - loss: 0.0597 - acc: 0.9833 - val_loss: 0.0270 - val_acc: 0.9922\n",
      "Epoch 4/12\n",
      "60000/60000 [==============================] - 44s 740us/step - loss: 0.0443 - acc: 0.9876 - val_loss: 0.0277 - val_acc: 0.9906\n",
      "Epoch 5/12\n",
      "60000/60000 [==============================] - 45s 748us/step - loss: 0.0395 - acc: 0.9891 - val_loss: 0.0243 - val_acc: 0.9932\n",
      "Epoch 6/12\n",
      "60000/60000 [==============================] - 45s 746us/step - loss: 0.0324 - acc: 0.9908 - val_loss: 0.0289 - val_acc: 0.9921\n",
      "Epoch 7/12\n",
      "60000/60000 [==============================] - 45s 748us/step - loss: 0.0277 - acc: 0.9918 - val_loss: 0.0227 - val_acc: 0.9940\n",
      "Epoch 8/12\n",
      "60000/60000 [==============================] - 44s 741us/step - loss: 0.0258 - acc: 0.9926 - val_loss: 0.0208 - val_acc: 0.9946\n",
      "Epoch 9/12\n",
      "60000/60000 [==============================] - 45s 743us/step - loss: 0.0229 - acc: 0.9934 - val_loss: 0.0244 - val_acc: 0.9940\n",
      "Epoch 10/12\n",
      "60000/60000 [==============================] - 45s 746us/step - loss: 0.0198 - acc: 0.9943 - val_loss: 0.0232 - val_acc: 0.9947\n",
      "Epoch 11/12\n",
      "60000/60000 [==============================] - 45s 743us/step - loss: 0.0193 - acc: 0.9942 - val_loss: 0.0280 - val_acc: 0.9931\n",
      "Epoch 12/12\n",
      "60000/60000 [==============================] - 45s 742us/step - loss: 0.0177 - acc: 0.9945 - val_loss: 0.0263 - val_acc: 0.9941\n",
      "Test loss: 0.026333382700281776\n",
      "Test accuracy: 0.9941\n"
     ]
    }
   ],
   "source": [
    "model = Sequential()\n",
    "model.add(Conv2D(32, kernel_size=(3, 3),\n",
    "                 activation='relu',\n",
    "                 input_shape=input_shape))\n",
    "model.add(Conv2D(64, (3, 3), activation='relu'))\n",
    "model.add(MaxPooling2D(pool_size=(2, 2)))\n",
    "model.add(BatchNormalization())\n",
    "model.add(Conv2D(128, (3, 3), activation='relu'))\n",
    "model.add(MaxPooling2D(pool_size=(2, 2)))\n",
    "model.add(BatchNormalization())\n",
    "model.add(Dropout(0.25))\n",
    "model.add(Flatten())\n",
    "model.add(Dense(128, activation='relu'))\n",
    "model.add(Dropout(0.5))\n",
    "model.add(Dense(num_classes, activation='softmax'))\n",
    "\n",
    "print(model.summary())\n",
    "model.compile(loss=keras.losses.categorical_crossentropy,\n",
    "              optimizer=keras.optimizers.Adadelta(),\n",
    "              metrics=['accuracy'])\n",
    "\n",
    "history=model.fit(x_train, y_train,\n",
    "          batch_size=batch_size,\n",
    "          epochs=epochs,\n",
    "          verbose=1,\n",
    "          validation_data=(x_test, y_test))\n",
    "score = model.evaluate(x_test, y_test, verbose=0)\n",
    "print('Test loss:', score[0])\n",
    "print('Test accuracy:', score[1])"
   ]
  },
  {
   "cell_type": "markdown",
   "metadata": {},
   "source": [
    "#### Here we have used 3 Convolution Layer with kernel_size=(3,3) with 32,64,128 kernels and 2 Max_Pooling Layers with pool_size=(2,2)  with BatchNormalization and Dropout of .25. By using this model we got Training_Accuracy=99.45%,Training_Loss=0.0177 and Test_Accuracy=99.41%,Test_Loss=0.026 which is Good  "
   ]
  },
  {
   "cell_type": "code",
   "execution_count": 12,
   "metadata": {},
   "outputs": [
    {
     "data": {
      "image/png": "[encoded data removed]",
      "text/plain": [
       "<Figure size 432x288 with 1 Axes>"
      ]
     },
     "metadata": {},
     "output_type": "display_data"
    }
   ],
   "source": [
    "def plt_dynamic(x, vy, ty, ax, colors=['b']):\n",
    "    ax.plot(x, vy, 'b', label=\"Validation Loss\")\n",
    "    ax.plot(x, ty, 'r', label=\"Train Loss\")\n",
    "    plt.legend()\n",
    "    plt.grid()\n",
    "    fig.canvas.draw()\n",
    "import matplotlib.pyplot as plt\n",
    "fig,ax = plt.subplots(1,1)\n",
    "ax.set_xlabel('epoch') ; ax.set_ylabel('Categorical Crossentropy Loss')\n",
    "\n",
    "x = list(range(1,epochs+1))\n",
    "\n",
    "vy = history.history['val_loss']\n",
    "ty = history.history['loss']\n",
    "plt_dynamic(x, vy, ty, ax)"
   ]
  },
  {
   "cell_type": "markdown",
   "metadata": {},
   "source": [
    "#### Here we can see that there is no overfitting till 12 Epochs as Training and Validation loss are very similar"
   ]
  },
  {
   "cell_type": "markdown",
   "metadata": {},
   "source": [
    "## CNN Model with 4 Convolution Layer, 3 Max-Pooling Layer,Dropouts,BatchNormalizations"
   ]
  },
  {
   "cell_type": "code",
   "execution_count": 6,
   "metadata": {},
   "outputs": [
    {
     "name": "stdout",
     "output_type": "stream",
     "text": [
      "_________________________________________________________________\n",
      "Layer (type)                 Output Shape              Param #   \n",
      "=================================================================\n",
      "conv2d_4 (Conv2D)            (None, 28, 28, 32)        832       \n",
      "_________________________________________________________________\n",
      "conv2d_5 (Conv2D)            (None, 28, 28, 64)        51264     \n",
      "_________________________________________________________________\n",
      "max_pooling2d_3 (MaxPooling2 (None, 14, 14, 64)        0         \n",
      "_________________________________________________________________\n",
      "batch_normalization_3 (Batch (None, 14, 14, 64)        256       \n",
      "_________________________________________________________________\n",
      "conv2d_6 (Conv2D)            (None, 14, 14, 128)       204928    \n",
      "_________________________________________________________________\n",
      "max_pooling2d_4 (MaxPooling2 (None, 7, 7, 128)         0         \n",
      "_________________________________________________________________\n",
      "conv2d_7 (Conv2D)            (None, 7, 7, 256)         819456    \n",
      "_________________________________________________________________\n",
      "max_pooling2d_5 (MaxPooling2 (None, 3, 3, 256)         0         \n",
      "_________________________________________________________________\n",
      "batch_normalization_4 (Batch (None, 3, 3, 256)         1024      \n",
      "_________________________________________________________________\n",
      "dropout_3 (Dropout)          (None, 3, 3, 256)         0         \n",
      "_________________________________________________________________\n",
      "flatten_2 (Flatten)          (None, 2304)              0         \n",
      "_________________________________________________________________\n",
      "dense_3 (Dense)              (None, 128)               295040    \n",
      "_________________________________________________________________\n",
      "dropout_4 (Dropout)          (None, 128)               0         \n",
      "_________________________________________________________________\n",
      "dense_4 (Dense)              (None, 10)                1290      \n",
      "=================================================================\n",
      "Total params: 1,374,090\n",
      "Trainable params: 1,373,450\n",
      "Non-trainable params: 640\n",
      "_________________________________________________________________\n",
      "None\n",
      "Train on 60000 samples, validate on 10000 samples\n",
      "Epoch 1/12\n",
      "60000/60000 [==============================] - 119s 2ms/step - loss: 0.2344 - acc: 0.9324 - val_loss: 0.0967 - val_acc: 0.9763\n",
      "Epoch 2/12\n",
      "60000/60000 [==============================] - 115s 2ms/step - loss: 0.0576 - acc: 0.9836 - val_loss: 0.0262 - val_acc: 0.9931\n",
      "Epoch 3/12\n",
      "60000/60000 [==============================] - 115s 2ms/step - loss: 0.0412 - acc: 0.9886 - val_loss: 0.0446 - val_acc: 0.9878\n",
      "Epoch 4/12\n",
      "60000/60000 [==============================] - 115s 2ms/step - loss: 0.0306 - acc: 0.9915 - val_loss: 0.0244 - val_acc: 0.9943\n",
      "Epoch 5/12\n",
      "60000/60000 [==============================] - 115s 2ms/step - loss: 0.0241 - acc: 0.9931 - val_loss: 0.0255 - val_acc: 0.9937\n",
      "Epoch 6/12\n",
      "60000/60000 [==============================] - 115s 2ms/step - loss: 0.0200 - acc: 0.9942 - val_loss: 0.0625 - val_acc: 0.9884\n",
      "Epoch 7/12\n",
      "60000/60000 [==============================] - 115s 2ms/step - loss: 0.0153 - acc: 0.9959 - val_loss: 0.0236 - val_acc: 0.9943\n",
      "Epoch 8/12\n",
      "60000/60000 [==============================] - 115s 2ms/step - loss: 0.0135 - acc: 0.9961 - val_loss: 0.0300 - val_acc: 0.9942\n",
      "Epoch 9/12\n",
      "60000/60000 [==============================] - 115s 2ms/step - loss: 0.0120 - acc: 0.9967 - val_loss: 0.0272 - val_acc: 0.9939\n",
      "Epoch 10/12\n",
      "60000/60000 [==============================] - 115s 2ms/step - loss: 0.0097 - acc: 0.9973 - val_loss: 0.0231 - val_acc: 0.9953\n",
      "Epoch 11/12\n",
      "60000/60000 [==============================] - 115s 2ms/step - loss: 0.0093 - acc: 0.9973 - val_loss: 0.0239 - val_acc: 0.9948\n",
      "Epoch 12/12\n",
      "60000/60000 [==============================] - 115s 2ms/step - loss: 0.0064 - acc: 0.9983 - val_loss: 0.0316 - val_acc: 0.9947\n",
      "Test loss: 0.03162627033790552\n",
      "Test accuracy: 0.9947\n"
     ]
    }
   ],
   "source": [
    "model = Sequential()\n",
    "model.add(Conv2D(32, kernel_size=(5, 5),\n",
    "                 activation='relu',\n",
    "                 input_shape=input_shape,padding='same'))\n",
    "model.add(Conv2D(64, (5, 5), activation='relu',padding='same'))\n",
    "model.add(MaxPooling2D(pool_size=(2, 2)))\n",
    "model.add(BatchNormalization())\n",
    "model.add(Conv2D(128, (5, 5), activation='relu',padding='same'))\n",
    "model.add(MaxPooling2D(pool_size=(2, 2)))\n",
    "model.add(Conv2D(256, (5, 5), activation='relu',padding='same'))\n",
    "model.add(MaxPooling2D(pool_size=(2, 2)))\n",
    "model.add(BatchNormalization())\n",
    "model.add(Dropout(0.25))\n",
    "model.add(Flatten())\n",
    "model.add(Dense(128, activation='relu'))\n",
    "model.add(Dropout(0.5))\n",
    "model.add(Dense(num_classes, activation='softmax'))\n",
    "print(model.summary())\n",
    "model.compile(loss=keras.losses.categorical_crossentropy,\n",
    "              optimizer=keras.optimizers.Adadelta(),\n",
    "              metrics=['accuracy'])\n",
    "\n",
    "history=model.fit(x_train, y_train,\n",
    "          batch_size=batch_size,\n",
    "          epochs=epochs,\n",
    "          verbose=1,\n",
    "          validation_data=(x_test, y_test))\n",
    "score = model.evaluate(x_test, y_test, verbose=0)\n",
    "print('Test loss:', score[0])\n",
    "print('Test accuracy:', score[1])"
   ]
  },
  {
   "cell_type": "markdown",
   "metadata": {},
   "source": [
    "#### Here we have used 4 Convolution Layer with kernel_size=(5,5) with 32,64,128,256 kernels and 3 Max_Pooling Layers with pool_size=(2,2)  with BatchNormalization and Dropout of .25 . By using this model we got Training_Accuracy=99.83%,Training_Loss=0.0064 and Test_Accuracy=99.47%,Test_Loss=0.031 which is Good  "
   ]
  },
  {
   "cell_type": "code",
   "execution_count": 7,
   "metadata": {},
   "outputs": [
    {
     "data": {
      "image/png": "[encoded data removed]",
      "text/plain": [
       "<Figure size 432x288 with 1 Axes>"
      ]
     },
     "metadata": {},
     "output_type": "display_data"
    }
   ],
   "source": [
    "fig,ax = plt.subplots(1,1)\n",
    "ax.set_xlabel('epoch') ; ax.set_ylabel('Categorical Crossentropy Loss')\n",
    "\n",
    "x = list(range(1,epochs+1))\n",
    "\n",
    "vy = history.history['val_loss']\n",
    "ty = history.history['loss']\n",
    "plt_dynamic(x, vy, ty, ax)"
   ]
  },
  {
   "cell_type": "markdown",
   "metadata": {},
   "source": [
    "#### Here we can see that there is no overfitting till 12 Epochs as Training and Validation loss are very similar"
   ]
  },
  {
   "cell_type": "markdown",
   "metadata": {},
   "source": [
    "## CNN Model with 6 Convolution Layer, 3 Max-Pooling Layer,Dropouts,BatchNormalizations"
   ]
  },
  {
   "cell_type": "code",
   "execution_count": 8,
   "metadata": {},
   "outputs": [
    {
     "name": "stdout",
     "output_type": "stream",
     "text": [
      "_________________________________________________________________\n",
      "Layer (type)                 Output Shape              Param #   \n",
      "=================================================================\n",
      "conv2d_8 (Conv2D)            (None, 28, 28, 32)        1600      \n",
      "_________________________________________________________________\n",
      "conv2d_9 (Conv2D)            (None, 28, 28, 64)        100416    \n",
      "_________________________________________________________________\n",
      "max_pooling2d_6 (MaxPooling2 (None, 9, 9, 64)          0         \n",
      "_________________________________________________________________\n",
      "batch_normalization_5 (Batch (None, 9, 9, 64)          256       \n",
      "_________________________________________________________________\n",
      "conv2d_10 (Conv2D)           (None, 9, 9, 128)         401536    \n",
      "_________________________________________________________________\n",
      "max_pooling2d_7 (MaxPooling2 (None, 3, 3, 128)         0         \n",
      "_________________________________________________________________\n",
      "batch_normalization_6 (Batch (None, 3, 3, 128)         512       \n",
      "_________________________________________________________________\n",
      "conv2d_11 (Conv2D)           (None, 3, 3, 150)         940950    \n",
      "_________________________________________________________________\n",
      "batch_normalization_7 (Batch (None, 3, 3, 150)         600       \n",
      "_________________________________________________________________\n",
      "conv2d_12 (Conv2D)           (None, 3, 3, 180)         1323180   \n",
      "_________________________________________________________________\n",
      "batch_normalization_8 (Batch (None, 3, 3, 180)         720       \n",
      "_________________________________________________________________\n",
      "conv2d_13 (Conv2D)           (None, 3, 3, 200)         1764200   \n",
      "_________________________________________________________________\n",
      "max_pooling2d_8 (MaxPooling2 (None, 1, 1, 200)         0         \n",
      "_________________________________________________________________\n",
      "batch_normalization_9 (Batch (None, 1, 1, 200)         800       \n",
      "_________________________________________________________________\n",
      "dropout_5 (Dropout)          (None, 1, 1, 200)         0         \n",
      "_________________________________________________________________\n",
      "flatten_3 (Flatten)          (None, 200)               0         \n",
      "_________________________________________________________________\n",
      "dense_5 (Dense)              (None, 240)               48240     \n",
      "_________________________________________________________________\n",
      "dropout_6 (Dropout)          (None, 240)               0         \n",
      "_________________________________________________________________\n",
      "dense_6 (Dense)              (None, 10)                2410      \n",
      "=================================================================\n",
      "Total params: 4,585,420\n",
      "Trainable params: 4,583,976\n",
      "Non-trainable params: 1,444\n",
      "_________________________________________________________________\n",
      "None\n",
      "Train on 60000 samples, validate on 10000 samples\n",
      "Epoch 1/12\n",
      "60000/60000 [==============================] - 216s 4ms/step - loss: 0.1513 - acc: 0.9553 - val_loss: 0.1106 - val_acc: 0.9724\n",
      "Epoch 2/12\n",
      "60000/60000 [==============================] - 208s 3ms/step - loss: 0.0433 - acc: 0.9882 - val_loss: 0.0385 - val_acc: 0.9875\n",
      "Epoch 3/12\n",
      "60000/60000 [==============================] - 208s 3ms/step - loss: 0.0283 - acc: 0.9921 - val_loss: 0.0338 - val_acc: 0.9917\n",
      "Epoch 4/12\n",
      "60000/60000 [==============================] - 205s 3ms/step - loss: 0.0170 - acc: 0.9951 - val_loss: 0.0308 - val_acc: 0.9922\n",
      "Epoch 5/12\n",
      "60000/60000 [==============================] - 209s 3ms/step - loss: 0.0146 - acc: 0.9956 - val_loss: 0.0349 - val_acc: 0.9913\n",
      "Epoch 6/12\n",
      "60000/60000 [==============================] - 209s 3ms/step - loss: 0.0107 - acc: 0.9969 - val_loss: 0.0304 - val_acc: 0.9926\n",
      "Epoch 7/12\n",
      "60000/60000 [==============================] - 205s 3ms/step - loss: 0.0062 - acc: 0.9980 - val_loss: 0.0307 - val_acc: 0.9928\n",
      "Epoch 8/12\n",
      "60000/60000 [==============================] - 208s 3ms/step - loss: 0.0065 - acc: 0.9981 - val_loss: 0.0279 - val_acc: 0.9934\n",
      "Epoch 9/12\n",
      "60000/60000 [==============================] - 208s 3ms/step - loss: 0.0047 - acc: 0.9987 - val_loss: 0.0245 - val_acc: 0.9948\n",
      "Epoch 10/12\n",
      "60000/60000 [==============================] - 207s 3ms/step - loss: 0.0032 - acc: 0.9990 - val_loss: 0.0272 - val_acc: 0.9941\n",
      "Epoch 11/12\n",
      "60000/60000 [==============================] - 209s 3ms/step - loss: 0.0025 - acc: 0.9992 - val_loss: 0.0290 - val_acc: 0.9943\n",
      "Epoch 12/12\n",
      "60000/60000 [==============================] - 208s 3ms/step - loss: 0.0029 - acc: 0.9992 - val_loss: 0.0245 - val_acc: 0.9942\n",
      "Test loss: 0.02446625152131794\n",
      "Test accuracy: 0.9942\n"
     ]
    }
   ],
   "source": [
    "model = Sequential()\n",
    "model.add(Conv2D(32, kernel_size=(7, 7),\n",
    "                 activation='relu',\n",
    "                 input_shape=input_shape,padding='same'))\n",
    "model.add(Conv2D(64, (7, 7), activation='relu',padding='same'))\n",
    "model.add(MaxPooling2D(pool_size=(3, 3)))\n",
    "model.add(BatchNormalization())\n",
    "model.add(Conv2D(128, (7, 7), activation='relu',padding='same'))\n",
    "model.add(MaxPooling2D(pool_size=(3, 3)))\n",
    "model.add(BatchNormalization())\n",
    "model.add(Conv2D(150, (7, 7), activation='relu',padding='same'))\n",
    "model.add(BatchNormalization())\n",
    "model.add(Conv2D(180, (7, 7), activation='relu',padding='same'))\n",
    "model.add(BatchNormalization())\n",
    "model.add(Conv2D(200, (7, 7), activation='relu',padding='same'))\n",
    "model.add(MaxPooling2D(pool_size=(3, 3)))\n",
    "model.add(BatchNormalization())\n",
    "model.add(Dropout(0.25))\n",
    "model.add(Flatten())\n",
    "model.add(Dense(240, activation='relu'))\n",
    "model.add(Dropout(0.5))\n",
    "model.add(Dense(num_classes, activation='softmax'))\n",
    "print(model.summary())\n",
    "model.compile(loss=keras.losses.categorical_crossentropy,\n",
    "              optimizer=keras.optimizers.Adadelta(),\n",
    "              metrics=['accuracy'])\n",
    "\n",
    "history=model.fit(x_train, y_train,\n",
    "          batch_size=batch_size,\n",
    "          epochs=epochs,\n",
    "          verbose=1,\n",
    "          validation_data=(x_test, y_test))\n",
    "score = model.evaluate(x_test, y_test, verbose=0)\n",
    "print('Test loss:', score[0])\n",
    "print('Test accuracy:', score[1])"
   ]
  },
  {
   "cell_type": "markdown",
   "metadata": {},
   "source": [
    "#### Here we have used 6 Convolution Layer with kernel_size=(7,7) with 32,64,128,150,180,200 kernels and 3 Max_Pooling Layers with pool_size=(3,3)  with BatchNormalization and Dropout of .25 . By using this model we got Training_Accuracy=99.92%,Training_Loss=0.0029 and Test_Accuracy=99.42%,Test_Loss=0.024 which is Good  "
   ]
  },
  {
   "cell_type": "code",
   "execution_count": 9,
   "metadata": {},
   "outputs": [
    {
     "data": {
      "image/png": "[encoded data removed]",
      "text/plain": [
       "<Figure size 432x288 with 1 Axes>"
      ]
     },
     "metadata": {},
     "output_type": "display_data"
    }
   ],
   "source": [
    "fig,ax = plt.subplots(1,1)\n",
    "ax.set_xlabel('epoch') ; ax.set_ylabel('Categorical Crossentropy Loss')\n",
    "\n",
    "x = list(range(1,epochs+1))\n",
    "\n",
    "vy = history.history['val_loss']\n",
    "ty = history.history['loss']\n",
    "plt_dynamic(x, vy, ty, ax)"
   ]
  },
  {
   "cell_type": "markdown",
   "metadata": {},
   "source": [
    "## Conclusion"
   ]
  },
  {
   "cell_type": "markdown",
   "metadata": {},
   "source": [
    "* Test Accuracy of all 3 Architectures are nearly same \n",
    "* As MNIST problem is very easy problem so we can't see much differnce between differnet architectures\n",
    "* But as Complexity of Problems increases we will see so much difference while using different architectures"
   ]
  },
  {
   "cell_type": "code",
   "execution_count": 13,
   "metadata": {},
   "outputs": [],
   "source": [
    "from prettytable import PrettyTable\n",
    "x = PrettyTable()\n",
    "x.field_names = [ \"No.Convolution_Layer\",\"Kernel_Sizes\",'No.of_Kernels','No.of_Max_Pooling_Layers','Pool_Size','Test_Accuracy']"
   ]
  },
  {
   "cell_type": "code",
   "execution_count": 14,
   "metadata": {},
   "outputs": [
    {
     "name": "stdout",
     "output_type": "stream",
     "text": [
      "+----------------------+--------------+-------------------------+--------------------------+-----------+---------------+\n",
      "| No.Convolution_Layer | Kernel_Sizes |      No.of_Kernels      | No.of_Max_Pooling_Layers | Pool_Size | Test_Accuracy |\n",
      "+----------------------+--------------+-------------------------+--------------------------+-----------+---------------+\n",
      "|          3           |    (3x3)     |       [32,64,128]       |            2             |   (2x2)   |     99.41%    |\n",
      "|          4           |    (5x5)     |     [32,64,128,256]     |            3             |   (2x2)   |     99.47%    |\n",
      "|          6           |    (7x7)     | [32,64,128,150,180,200] |            3             |   (3x3)   |     99.42%    |\n",
      "+----------------------+--------------+-------------------------+--------------------------+-----------+---------------+\n"
     ]
    }
   ],
   "source": [
    "x.add_row(['3','(3x3)','[32,64,128]','2','(2x2)','99.41%'])\n",
    "x.add_row(['4','(5x5)','[32,64,128,256]','3','(2x2)','99.47%'])\n",
    "x.add_row(['6','(7x7)','[32,64,128,150,180,200]','3','(3x3)','99.42%'])\n",
    "print(x)"
   ]
  },
  {
   "cell_type": "code",
   "execution_count": null,
   "metadata": {},
   "outputs": [],
   "source": []
  }
 ],
 "metadata": {
  "kernelspec": {
   "display_name": "Python 3",
   "language": "python",
   "name": "python3"
  },
  "language_info": {
   "codemirror_mode": {
    "name": "ipython",
    "version": 3
   },
   "file_extension": ".py",
   "mimetype": "text/x-python",
   "name": "python",
   "nbconvert_exporter": "python",
   "pygments_lexer": "ipython3",
   "version": "3.6.2"
  }
 },
 "nbformat": 4,
 "nbformat_minor": 2
}
